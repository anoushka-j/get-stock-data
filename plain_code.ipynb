{
 "cells": [
  {
   "cell_type": "code",
   "execution_count": null,
   "metadata": {},
   "outputs": [],
   "source": [
    "import datetime as dt\n",
    "import yfinance as yf\n",
    "import pandas as pd\n",
    "import matplotlib.pyplot as plt \n",
    "\n",
    "tickers = []\n",
    "finished = False \n",
    "while finished == False : \n",
    "    ticker = input(\"Enter the tickers you would like to analyze one by one. Enter done when done. \")\n",
    "    if ticker == 'done' : \n",
    "        break\n",
    "    if ticker == '' : \n",
    "        ticker = input(\"Enter a ticker: \" )\n",
    "        tickers += ticker,\n",
    "    else : \n",
    "        tickers += ticker,\n",
    "       \n",
    "days = input(\"Time Period? (days) \")\n",
    "if days == '' : \n",
    "    days = input(\"Enter a number of days : \")\n",
    "    \n",
    "start = dt.datetime.today()-dt.timedelta(int(days))\n",
    "end = dt.datetime.today()\n",
    "close_prices = pd.DataFrame() \n",
    "\n",
    "for ticker in tickers:\n",
    "    close_prices[ticker] = yf.download(ticker,start,end)[\"Adj Close\"]\n",
    "    \n",
    "close_prices.plot(title=\"Closing Prices of Various Stocks\")\n",
    "cp_standardized= (close_prices-close_prices.mean())/close_prices.std()\n",
    "cp_standardized.plot(subplots=True, layout=(3, 2), title=\"The Evolution of Various Stocks (Standardized)\", grid=True)\n",
    "\n",
    "daily_return = close_prices.pct_change() # Creates dataframe with daily return for each stock\n",
    "\n",
    "fig, ax = plt.subplots()\n",
    "ax.set(title=\"Daily Returns\", xlabel=\"Stocks\", ylabel=\"Mean Daily Returns\")\n",
    "plt.bar(daily_return.columns, daily_return.mean())\n",
    "\n"
   ]
  }
 ],
 "metadata": {
  "kernelspec": {
   "display_name": "Python 3",
   "language": "python",
   "name": "python3"
  },
  "language_info": {
   "codemirror_mode": {
    "name": "ipython",
    "version": 3
   },
   "file_extension": ".py",
   "mimetype": "text/x-python",
   "name": "python",
   "nbconvert_exporter": "python",
   "pygments_lexer": "ipython3",
   "version": "3.7.7"
  },
  "widgets": {
   "application/vnd.jupyter.widget-state+json": {
    "state": {},
    "version_major": 2,
    "version_minor": 0
   }
  }
 },
 "nbformat": 4,
 "nbformat_minor": 4
}
